{
 "cells": [
  {
   "cell_type": "code",
   "execution_count": 3,
   "metadata": {},
   "outputs": [
    {
     "name": "stdout",
     "output_type": "stream",
     "text": [
      "preload\n",
      "create\n",
      "update\n",
      "writeUI\n",
      "togglePause\n",
      "reducePoints\n",
      "handlePlayerMovement\n",
      "getClosestPointOnPerimeter\n",
      "getClosestPointOnLineSegment\n",
      "isPointOnLineSegment\n",
      "isPointOnPerimeter\n",
      "calculatePolygonArea\n",
      "drawPoints\n",
      "clearPoints\n",
      "getRightHandPath\n",
      "getLeftHandPath\n",
      "getRandomVibrantColor\n",
      "calculateLuminance\n",
      "createMask\n",
      "drawPolygon\n"
     ]
    }
   ],
   "source": [
    "import re\n",
    "\n",
    "def extract_function_names(file_name):\n",
    "    with open(file_name, 'r') as file:\n",
    "        code = file.read()\n",
    "\n",
    "    # Regular expression pattern to match function definitions\n",
    "    pattern = r\"function\\s+(\\w+)\\s*\\(\"\n",
    "\n",
    "    # Find all function names using regex pattern\n",
    "    function_names = re.findall(pattern, code)\n",
    "\n",
    "    return function_names\n",
    "\n",
    "\n",
    "\n",
    "\n",
    "\n",
    "\n",
    "# Example usage\n",
    "file_name = \"game.js\"  # Replace with the actual file name\n",
    "function_names = extract_function_names(file_name)\n",
    "\n",
    "# Print the extracted function names\n",
    "for name in function_names:\n",
    "    print(name)\n",
    "\n",
    "\n",
    "\n",
    "\n"
   ]
  },
  {
   "cell_type": "code",
   "execution_count": null,
   "metadata": {},
   "outputs": [],
   "source": []
  }
 ],
 "metadata": {
  "kernelspec": {
   "display_name": "Python 3",
   "language": "python",
   "name": "python3"
  },
  "language_info": {
   "codemirror_mode": {
    "name": "ipython",
    "version": 3
   },
   "file_extension": ".py",
   "mimetype": "text/x-python",
   "name": "python",
   "nbconvert_exporter": "python",
   "pygments_lexer": "ipython3",
   "version": "3.7.6"
  }
 },
 "nbformat": 4,
 "nbformat_minor": 4
}
