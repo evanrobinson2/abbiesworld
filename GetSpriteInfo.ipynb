{
 "cells": [
  {
   "cell_type": "code",
   "execution_count": 4,
   "metadata": {},
   "outputs": [
    {
     "name": "stdout",
     "output_type": "stream",
     "text": [
      "Image dimensions: 1024x1024\n"
     ]
    }
   ],
   "source": [
    "from PIL import Image\n",
    "\n",
    "# Open the image file\n",
    "image = Image.open(\"assets/images/exhaust.png\")\n",
    "\n",
    "# Get the image dimensions\n",
    "width, height = image.size\n",
    "print(f\"Image dimensions: {width}x{height}\")\n",
    "\n",
    "# Perform image analysis here\n",
    "# You can access individual pixels using image.getpixel((x, y))\n",
    "# Example: pixel = image.getpixel((0, 0))\n",
    "# Example: red, green, blue = image.getpixel((x, y))\n",
    "\n",
    "# Close the image\n",
    "image.close()\n"
   ]
  },
  {
   "cell_type": "code",
   "execution_count": null,
   "metadata": {},
   "outputs": [],
   "source": []
  }
 ],
 "metadata": {
  "kernelspec": {
   "display_name": "Python 3",
   "language": "python",
   "name": "python3"
  },
  "language_info": {
   "codemirror_mode": {
    "name": "ipython",
    "version": 3
   },
   "file_extension": ".py",
   "mimetype": "text/x-python",
   "name": "python",
   "nbconvert_exporter": "python",
   "pygments_lexer": "ipython3",
   "version": "3.7.6"
  }
 },
 "nbformat": 4,
 "nbformat_minor": 4
}
