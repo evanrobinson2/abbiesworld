{
 "cells": [
  {
   "cell_type": "code",
   "execution_count": 1,
   "metadata": {},
   "outputs": [
    {
     "name": "stdout",
     "output_type": "stream",
     "text": [
      "- .ipynb_checkpoints/\n",
      "  - Print File and Directory Hierarchy to File and Console-checkpoint.ipynb\n",
      "- assets/\n",
      "  - audio/\n",
      "  - images/\n",
      "    - worldmap.png\n",
      "- index.html\n",
      "- ...\n",
      "- scripts/\n",
      "  - main.js\n",
      "  - phaser.js\n",
      "- styles/\n",
      "  - styles.css\n"
     ]
    }
   ],
   "source": [
    "import os\n",
    "\n",
    "def print_directory_structure(folder_path, indent='', limit_files=3, output_file=None):\n",
    "    # Iterate over the items in the folder\n",
    "    for i, item in enumerate(os.listdir(folder_path)):\n",
    "        item_path = os.path.join(folder_path, item)  # Get the full path of the item\n",
    "\n",
    "        # Check if the item is a file\n",
    "        if os.path.isfile(item_path):\n",
    "            # Check if the file count is within the limit\n",
    "            if i < limit_files:\n",
    "                print(indent + '- ' + item)  # Print the file name to the console\n",
    "                if output_file:\n",
    "                    output_file.write(indent + '- ' + item + '\\n')  # Write the file name to the output file\n",
    "            elif i == limit_files:\n",
    "                print(indent + '- ...')  # Print ellipsis to indicate more files in the folder\n",
    "                if output_file:\n",
    "                    output_file.write(indent + '- ...\\n')  # Write ellipsis to the output file\n",
    "\n",
    "        # Check if the item is a directory\n",
    "        elif os.path.isdir(item_path):\n",
    "            print(indent + '- ' + item + '/')  # Print the directory name to the console\n",
    "            if output_file:\n",
    "                output_file.write(indent + '- ' + item + '/\\n')  # Write the directory name to the output file\n",
    "            # Recursively call the function to print the subdirectory structure\n",
    "            print_directory_structure(item_path, indent + '  ', limit_files, output_file)\n",
    "\n",
    "# Get the current working directory (pwd)\n",
    "current_directory = os.getcwd()\n",
    "\n",
    "# Open the output file\n",
    "with open('output.txt', 'w') as output_file:\n",
    "    # Print the directory structure with a limit of 3 files per folder\n",
    "    print_directory_structure(current_directory, output_file=output_file)\n"
   ]
  },
  {
   "cell_type": "code",
   "execution_count": 5,
   "metadata": {},
   "outputs": [
    {
     "name": "stderr",
     "output_type": "stream",
     "text": [
      "IOPub data rate exceeded.\n",
      "The notebook server will temporarily stop sending output\n",
      "to the client in order to avoid crashing it.\n",
      "To change this limit, set the config variable\n",
      "`--NotebookApp.iopub_data_rate_limit`.\n",
      "\n",
      "Current values:\n",
      "NotebookApp.iopub_data_rate_limit=1000000.0 (bytes/sec)\n",
      "NotebookApp.rate_limit_window=3.0 (secs)\n",
      "\n"
     ]
    }
   ],
   "source": [
    "import os\n",
    "import time\n",
    "\n",
    "def output_files_with_contents(root_dir, extensions):\n",
    "    for dirpath, _, filenames in os.walk(root_dir):\n",
    "        for filename in filenames:\n",
    "            file_path = os.path.join(dirpath, filename)\n",
    "            file_ext = os.path.splitext(filename)[1]\n",
    "            if file_ext in extensions:\n",
    "                print(f'```{file_ext[1:]}')\n",
    "                with open(file_path, 'r') as file:\n",
    "                    contents = file.read()\n",
    "                    lines = contents.split('\\n')\n",
    "                    for line in lines:\n",
    "                        print(line)\n",
    "                        time.sleep(0.01)\n",
    "                print('```')\n",
    "                print()\n",
    "\n",
    "root_directory = '.'  # Replace with the path to your root directory\n",
    "file_extensions = ['.html', '.js', '.css']\n",
    "output_files_with_contents(root_directory, file_extensions)\n"
   ]
  },
  {
   "cell_type": "code",
   "execution_count": null,
   "metadata": {},
   "outputs": [],
   "source": []
  }
 ],
 "metadata": {
  "kernelspec": {
   "display_name": "Python 3",
   "language": "python",
   "name": "python3"
  },
  "language_info": {
   "codemirror_mode": {
    "name": "ipython",
    "version": 3
   },
   "file_extension": ".py",
   "mimetype": "text/x-python",
   "name": "python",
   "nbconvert_exporter": "python",
   "pygments_lexer": "ipython3",
   "version": "3.7.6"
  }
 },
 "nbformat": 4,
 "nbformat_minor": 4
}
